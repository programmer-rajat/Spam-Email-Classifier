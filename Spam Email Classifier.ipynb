{
  "cells": [
    {
      "cell_type": "markdown",
      "id": "02c54141",
      "metadata": {
        "id": "02c54141"
      },
      "source": [
        "## Spam Email Classifier with KNN using TF-IDF scores"
      ]
    },
    {
      "cell_type": "markdown",
      "id": "1c17102e",
      "metadata": {
        "id": "1c17102e"
      },
      "source": [
        "1.   Assignment must be implemented in Python 3 only.\n",
        "2.   You are allowed to use libraries for data preprocessing (numpy, pandas etc) and for evaluation metrics, data visualization (matplotlib etc.).\n",
        "3.   You will be evaluated not just on the overall performance of the model and also on the experimentation with hyper parameters, data prepossessing techniques etc.\n",
        "4.   The report file must be a well documented jupyter notebook, explaining the experiments you have performed, evaluation metrics and corresponding code. The code must run and be able to reproduce the accuracies, figures/graphs etc.\n",
        "5.   For all the questions, you must create a train-validation data split and test the hyperparameter tuning on the validation set. Your jupyter notebook must reflect the same."
      ]
    },
    {
      "cell_type": "markdown",
      "id": "0d34a310",
      "metadata": {
        "id": "0d34a310"
      },
      "source": [
        "**Task: Given an email, classify it as spam or ham**\n",
        "\n",
        "Given input text file (\"emails.txt\") containing 5572 email messages, with each row having its corresponding label (spam/ham) attached to it.\n",
        "\n",
        "This task also requires basic pre-processing of text (like removing stopwords, stemming/lemmatizing, replacing email_address with 'email-tag', etc..).\n",
        "\n",
        "You are required to find the tf-idf scores for the given data and use them to perform KNN using Cosine Similarity."
      ]
    },
    {
      "cell_type": "markdown",
      "id": "b0c87696",
      "metadata": {
        "id": "b0c87696"
      },
      "source": [
        "### Import necessary libraries"
      ]
    },
    {
      "cell_type": "code",
      "execution_count": 12,
      "id": "3d5a1fe2",
      "metadata": {
        "colab": {
          "base_uri": "https://localhost:8080/"
        },
        "id": "3d5a1fe2",
        "outputId": "80fa933f-b196-4d90-a028-55b2bb4a497f"
      },
      "outputs": [
        {
          "output_type": "stream",
          "name": "stdout",
          "text": [
            "Requirement already satisfied: contractions in /usr/local/lib/python3.7/dist-packages (0.1.66)\n",
            "Requirement already satisfied: textsearch>=0.0.21 in /usr/local/lib/python3.7/dist-packages (from contractions) (0.0.21)\n",
            "Requirement already satisfied: pyahocorasick in /usr/local/lib/python3.7/dist-packages (from textsearch>=0.0.21->contractions) (1.4.2)\n",
            "Requirement already satisfied: anyascii in /usr/local/lib/python3.7/dist-packages (from textsearch>=0.0.21->contractions) (0.3.0)\n",
            "Requirement already satisfied: nltk in /usr/local/lib/python3.7/dist-packages (3.2.5)\n",
            "Requirement already satisfied: six in /usr/local/lib/python3.7/dist-packages (from nltk) (1.15.0)\n",
            "Requirement already satisfied: matplotlib in /usr/local/lib/python3.7/dist-packages (3.2.2)\n",
            "Requirement already satisfied: cycler>=0.10 in /usr/local/lib/python3.7/dist-packages (from matplotlib) (0.11.0)\n",
            "Requirement already satisfied: pyparsing!=2.0.4,!=2.1.2,!=2.1.6,>=2.0.1 in /usr/local/lib/python3.7/dist-packages (from matplotlib) (3.0.7)\n",
            "Requirement already satisfied: kiwisolver>=1.0.1 in /usr/local/lib/python3.7/dist-packages (from matplotlib) (1.3.2)\n",
            "Requirement already satisfied: python-dateutil>=2.1 in /usr/local/lib/python3.7/dist-packages (from matplotlib) (2.8.2)\n",
            "Requirement already satisfied: numpy>=1.11 in /usr/local/lib/python3.7/dist-packages (from matplotlib) (1.19.5)\n",
            "Requirement already satisfied: six>=1.5 in /usr/local/lib/python3.7/dist-packages (from python-dateutil>=2.1->matplotlib) (1.15.0)\n",
            "Requirement already satisfied: sklearn in /usr/local/lib/python3.7/dist-packages (0.0)\n",
            "Requirement already satisfied: scikit-learn in /usr/local/lib/python3.7/dist-packages (from sklearn) (1.0.2)\n",
            "Requirement already satisfied: joblib>=0.11 in /usr/local/lib/python3.7/dist-packages (from scikit-learn->sklearn) (1.1.0)\n",
            "Requirement already satisfied: scipy>=1.1.0 in /usr/local/lib/python3.7/dist-packages (from scikit-learn->sklearn) (1.4.1)\n",
            "Requirement already satisfied: numpy>=1.14.6 in /usr/local/lib/python3.7/dist-packages (from scikit-learn->sklearn) (1.19.5)\n",
            "Requirement already satisfied: threadpoolctl>=2.0.0 in /usr/local/lib/python3.7/dist-packages (from scikit-learn->sklearn) (3.0.0)\n",
            "\u001b[31mERROR: Could not find a version that satisfies the requirement collections (from versions: none)\u001b[0m\n",
            "\u001b[31mERROR: No matching distribution found for collections\u001b[0m\n",
            "[nltk_data] Downloading package stopwords to /root/nltk_data...\n",
            "[nltk_data]   Package stopwords is already up-to-date!\n",
            "[nltk_data] Downloading package wordnet to /root/nltk_data...\n",
            "[nltk_data]   Package wordnet is already up-to-date!\n",
            "[nltk_data] Downloading package punkt to /root/nltk_data...\n",
            "[nltk_data]   Package punkt is already up-to-date!\n"
          ]
        }
      ],
      "source": [
        "!pip install contractions\n",
        "!pip install nltk\n",
        "!pip install matplotlib\n",
        "!pip install sklearn\n",
        "#!pip install pyspellchecker \n",
        "!pip install collections\n",
        "import nltk\n",
        "import matplotlib.pyplot as plt\n",
        "nltk.download('stopwords')\n",
        "nltk.download('wordnet')\n",
        "from nltk.corpus import stopwords\n",
        "from nltk.stem import WordNetLemmatizer\n",
        "import pandas as pd\n",
        "import numpy as np\n",
        "from numpy import dot\n",
        "from numpy.linalg import norm\n",
        "from sklearn.metrics import confusion_matrix\n",
        "import contractions\n",
        "import re\n",
        "import string\n",
        "#from spellchecker import SpellChecker\n",
        "from nltk import word_tokenize\n",
        "nltk.download('punkt')\n",
        "from collections import Counter\n",
        "from sklearn.neighbors import KNeighborsClassifier\n",
        "from sklearn.metrics import classification_report, confusion_matrix\n"
      ]
    },
    {
      "cell_type": "markdown",
      "id": "7aef4dff",
      "metadata": {
        "id": "7aef4dff"
      },
      "source": [
        "### Load dataset"
      ]
    },
    {
      "cell_type": "code",
      "execution_count": 13,
      "id": "f178f892",
      "metadata": {
        "colab": {
          "base_uri": "https://localhost:8080/",
          "height": 206
        },
        "id": "f178f892",
        "outputId": "fed1a877-20f1-4500-cf9d-12e800a3ae9e"
      },
      "outputs": [
        {
          "output_type": "execute_result",
          "data": {
            "text/html": [
              "\n",
              "  <div id=\"df-d70ec4e6-0a45-42a2-b613-2336eaa2e631\">\n",
              "    <div class=\"colab-df-container\">\n",
              "      <div>\n",
              "<style scoped>\n",
              "    .dataframe tbody tr th:only-of-type {\n",
              "        vertical-align: middle;\n",
              "    }\n",
              "\n",
              "    .dataframe tbody tr th {\n",
              "        vertical-align: top;\n",
              "    }\n",
              "\n",
              "    .dataframe thead th {\n",
              "        text-align: right;\n",
              "    }\n",
              "</style>\n",
              "<table border=\"1\" class=\"dataframe\">\n",
              "  <thead>\n",
              "    <tr style=\"text-align: right;\">\n",
              "      <th></th>\n",
              "      <th>class</th>\n",
              "      <th>email</th>\n",
              "    </tr>\n",
              "  </thead>\n",
              "  <tbody>\n",
              "    <tr>\n",
              "      <th>0</th>\n",
              "      <td>ham</td>\n",
              "      <td>Go until jurong point, crazy.. Available only ...</td>\n",
              "    </tr>\n",
              "    <tr>\n",
              "      <th>1</th>\n",
              "      <td>ham</td>\n",
              "      <td>Ok lar... Joking wif u oni...</td>\n",
              "    </tr>\n",
              "    <tr>\n",
              "      <th>2</th>\n",
              "      <td>spam</td>\n",
              "      <td>Free entry in 2 a wkly comp to win FA Cup fina...</td>\n",
              "    </tr>\n",
              "    <tr>\n",
              "      <th>3</th>\n",
              "      <td>ham</td>\n",
              "      <td>U dun say so early hor... U c already then say...</td>\n",
              "    </tr>\n",
              "    <tr>\n",
              "      <th>4</th>\n",
              "      <td>ham</td>\n",
              "      <td>Nah I don't think he goes to usf, he lives aro...</td>\n",
              "    </tr>\n",
              "  </tbody>\n",
              "</table>\n",
              "</div>\n",
              "      <button class=\"colab-df-convert\" onclick=\"convertToInteractive('df-d70ec4e6-0a45-42a2-b613-2336eaa2e631')\"\n",
              "              title=\"Convert this dataframe to an interactive table.\"\n",
              "              style=\"display:none;\">\n",
              "        \n",
              "  <svg xmlns=\"http://www.w3.org/2000/svg\" height=\"24px\"viewBox=\"0 0 24 24\"\n",
              "       width=\"24px\">\n",
              "    <path d=\"M0 0h24v24H0V0z\" fill=\"none\"/>\n",
              "    <path d=\"M18.56 5.44l.94 2.06.94-2.06 2.06-.94-2.06-.94-.94-2.06-.94 2.06-2.06.94zm-11 1L8.5 8.5l.94-2.06 2.06-.94-2.06-.94L8.5 2.5l-.94 2.06-2.06.94zm10 10l.94 2.06.94-2.06 2.06-.94-2.06-.94-.94-2.06-.94 2.06-2.06.94z\"/><path d=\"M17.41 7.96l-1.37-1.37c-.4-.4-.92-.59-1.43-.59-.52 0-1.04.2-1.43.59L10.3 9.45l-7.72 7.72c-.78.78-.78 2.05 0 2.83L4 21.41c.39.39.9.59 1.41.59.51 0 1.02-.2 1.41-.59l7.78-7.78 2.81-2.81c.8-.78.8-2.07 0-2.86zM5.41 20L4 18.59l7.72-7.72 1.47 1.35L5.41 20z\"/>\n",
              "  </svg>\n",
              "      </button>\n",
              "      \n",
              "  <style>\n",
              "    .colab-df-container {\n",
              "      display:flex;\n",
              "      flex-wrap:wrap;\n",
              "      gap: 12px;\n",
              "    }\n",
              "\n",
              "    .colab-df-convert {\n",
              "      background-color: #E8F0FE;\n",
              "      border: none;\n",
              "      border-radius: 50%;\n",
              "      cursor: pointer;\n",
              "      display: none;\n",
              "      fill: #1967D2;\n",
              "      height: 32px;\n",
              "      padding: 0 0 0 0;\n",
              "      width: 32px;\n",
              "    }\n",
              "\n",
              "    .colab-df-convert:hover {\n",
              "      background-color: #E2EBFA;\n",
              "      box-shadow: 0px 1px 2px rgba(60, 64, 67, 0.3), 0px 1px 3px 1px rgba(60, 64, 67, 0.15);\n",
              "      fill: #174EA6;\n",
              "    }\n",
              "\n",
              "    [theme=dark] .colab-df-convert {\n",
              "      background-color: #3B4455;\n",
              "      fill: #D2E3FC;\n",
              "    }\n",
              "\n",
              "    [theme=dark] .colab-df-convert:hover {\n",
              "      background-color: #434B5C;\n",
              "      box-shadow: 0px 1px 3px 1px rgba(0, 0, 0, 0.15);\n",
              "      filter: drop-shadow(0px 1px 2px rgba(0, 0, 0, 0.3));\n",
              "      fill: #FFFFFF;\n",
              "    }\n",
              "  </style>\n",
              "\n",
              "      <script>\n",
              "        const buttonEl =\n",
              "          document.querySelector('#df-d70ec4e6-0a45-42a2-b613-2336eaa2e631 button.colab-df-convert');\n",
              "        buttonEl.style.display =\n",
              "          google.colab.kernel.accessAllowed ? 'block' : 'none';\n",
              "\n",
              "        async function convertToInteractive(key) {\n",
              "          const element = document.querySelector('#df-d70ec4e6-0a45-42a2-b613-2336eaa2e631');\n",
              "          const dataTable =\n",
              "            await google.colab.kernel.invokeFunction('convertToInteractive',\n",
              "                                                     [key], {});\n",
              "          if (!dataTable) return;\n",
              "\n",
              "          const docLinkHtml = 'Like what you see? Visit the ' +\n",
              "            '<a target=\"_blank\" href=https://colab.research.google.com/notebooks/data_table.ipynb>data table notebook</a>'\n",
              "            + ' to learn more about interactive tables.';\n",
              "          element.innerHTML = '';\n",
              "          dataTable['output_type'] = 'display_data';\n",
              "          await google.colab.output.renderOutput(dataTable, element);\n",
              "          const docLink = document.createElement('div');\n",
              "          docLink.innerHTML = docLinkHtml;\n",
              "          element.appendChild(docLink);\n",
              "        }\n",
              "      </script>\n",
              "    </div>\n",
              "  </div>\n",
              "  "
            ],
            "text/plain": [
              "  class                                              email\n",
              "0   ham  Go until jurong point, crazy.. Available only ...\n",
              "1   ham                      Ok lar... Joking wif u oni...\n",
              "2  spam  Free entry in 2 a wkly comp to win FA Cup fina...\n",
              "3   ham  U dun say so early hor... U c already then say...\n",
              "4   ham  Nah I don't think he goes to usf, he lives aro..."
            ]
          },
          "metadata": {},
          "execution_count": 13
        }
      ],
      "source": [
        "df=pd.read_csv('emails.txt',sep=\"\\t\",header=None,names=['class','email'])\n",
        "df.head()"
      ]
    },
    {
      "cell_type": "markdown",
      "id": "cd1ef5ba",
      "metadata": {
        "id": "cd1ef5ba"
      },
      "source": [
        "### Preprocess data"
      ]
    },
    {
      "cell_type": "code",
      "execution_count": 14,
      "id": "fd1733d7",
      "metadata": {
        "colab": {
          "base_uri": "https://localhost:8080/",
          "height": 206
        },
        "id": "fd1733d7",
        "outputId": "38c57c0c-dbcf-48c1-9501-4e7d460254a2"
      },
      "outputs": [
        {
          "output_type": "execute_result",
          "data": {
            "text/html": [
              "\n",
              "  <div id=\"df-db9f3a17-bc4d-4bcf-bc14-e0f51dc9f798\">\n",
              "    <div class=\"colab-df-container\">\n",
              "      <div>\n",
              "<style scoped>\n",
              "    .dataframe tbody tr th:only-of-type {\n",
              "        vertical-align: middle;\n",
              "    }\n",
              "\n",
              "    .dataframe tbody tr th {\n",
              "        vertical-align: top;\n",
              "    }\n",
              "\n",
              "    .dataframe thead th {\n",
              "        text-align: right;\n",
              "    }\n",
              "</style>\n",
              "<table border=\"1\" class=\"dataframe\">\n",
              "  <thead>\n",
              "    <tr style=\"text-align: right;\">\n",
              "      <th></th>\n",
              "      <th>class</th>\n",
              "      <th>email</th>\n",
              "    </tr>\n",
              "  </thead>\n",
              "  <tbody>\n",
              "    <tr>\n",
              "      <th>0</th>\n",
              "      <td>ham</td>\n",
              "      <td>[go, jurong, point, crazy, available, bugis, n...</td>\n",
              "    </tr>\n",
              "    <tr>\n",
              "      <th>1</th>\n",
              "      <td>ham</td>\n",
              "      <td>[ok, lar, joking, wif, oni]</td>\n",
              "    </tr>\n",
              "    <tr>\n",
              "      <th>2</th>\n",
              "      <td>spam</td>\n",
              "      <td>[free, entry, wkly, comp, win, fa, cup, final,...</td>\n",
              "    </tr>\n",
              "    <tr>\n",
              "      <th>3</th>\n",
              "      <td>ham</td>\n",
              "      <td>[dun, say, early, hor, c, already, say]</td>\n",
              "    </tr>\n",
              "    <tr>\n",
              "      <th>4</th>\n",
              "      <td>ham</td>\n",
              "      <td>[nah, think, go, usf, life, around, though]</td>\n",
              "    </tr>\n",
              "  </tbody>\n",
              "</table>\n",
              "</div>\n",
              "      <button class=\"colab-df-convert\" onclick=\"convertToInteractive('df-db9f3a17-bc4d-4bcf-bc14-e0f51dc9f798')\"\n",
              "              title=\"Convert this dataframe to an interactive table.\"\n",
              "              style=\"display:none;\">\n",
              "        \n",
              "  <svg xmlns=\"http://www.w3.org/2000/svg\" height=\"24px\"viewBox=\"0 0 24 24\"\n",
              "       width=\"24px\">\n",
              "    <path d=\"M0 0h24v24H0V0z\" fill=\"none\"/>\n",
              "    <path d=\"M18.56 5.44l.94 2.06.94-2.06 2.06-.94-2.06-.94-.94-2.06-.94 2.06-2.06.94zm-11 1L8.5 8.5l.94-2.06 2.06-.94-2.06-.94L8.5 2.5l-.94 2.06-2.06.94zm10 10l.94 2.06.94-2.06 2.06-.94-2.06-.94-.94-2.06-.94 2.06-2.06.94z\"/><path d=\"M17.41 7.96l-1.37-1.37c-.4-.4-.92-.59-1.43-.59-.52 0-1.04.2-1.43.59L10.3 9.45l-7.72 7.72c-.78.78-.78 2.05 0 2.83L4 21.41c.39.39.9.59 1.41.59.51 0 1.02-.2 1.41-.59l7.78-7.78 2.81-2.81c.8-.78.8-2.07 0-2.86zM5.41 20L4 18.59l7.72-7.72 1.47 1.35L5.41 20z\"/>\n",
              "  </svg>\n",
              "      </button>\n",
              "      \n",
              "  <style>\n",
              "    .colab-df-container {\n",
              "      display:flex;\n",
              "      flex-wrap:wrap;\n",
              "      gap: 12px;\n",
              "    }\n",
              "\n",
              "    .colab-df-convert {\n",
              "      background-color: #E8F0FE;\n",
              "      border: none;\n",
              "      border-radius: 50%;\n",
              "      cursor: pointer;\n",
              "      display: none;\n",
              "      fill: #1967D2;\n",
              "      height: 32px;\n",
              "      padding: 0 0 0 0;\n",
              "      width: 32px;\n",
              "    }\n",
              "\n",
              "    .colab-df-convert:hover {\n",
              "      background-color: #E2EBFA;\n",
              "      box-shadow: 0px 1px 2px rgba(60, 64, 67, 0.3), 0px 1px 3px 1px rgba(60, 64, 67, 0.15);\n",
              "      fill: #174EA6;\n",
              "    }\n",
              "\n",
              "    [theme=dark] .colab-df-convert {\n",
              "      background-color: #3B4455;\n",
              "      fill: #D2E3FC;\n",
              "    }\n",
              "\n",
              "    [theme=dark] .colab-df-convert:hover {\n",
              "      background-color: #434B5C;\n",
              "      box-shadow: 0px 1px 3px 1px rgba(0, 0, 0, 0.15);\n",
              "      filter: drop-shadow(0px 1px 2px rgba(0, 0, 0, 0.3));\n",
              "      fill: #FFFFFF;\n",
              "    }\n",
              "  </style>\n",
              "\n",
              "      <script>\n",
              "        const buttonEl =\n",
              "          document.querySelector('#df-db9f3a17-bc4d-4bcf-bc14-e0f51dc9f798 button.colab-df-convert');\n",
              "        buttonEl.style.display =\n",
              "          google.colab.kernel.accessAllowed ? 'block' : 'none';\n",
              "\n",
              "        async function convertToInteractive(key) {\n",
              "          const element = document.querySelector('#df-db9f3a17-bc4d-4bcf-bc14-e0f51dc9f798');\n",
              "          const dataTable =\n",
              "            await google.colab.kernel.invokeFunction('convertToInteractive',\n",
              "                                                     [key], {});\n",
              "          if (!dataTable) return;\n",
              "\n",
              "          const docLinkHtml = 'Like what you see? Visit the ' +\n",
              "            '<a target=\"_blank\" href=https://colab.research.google.com/notebooks/data_table.ipynb>data table notebook</a>'\n",
              "            + ' to learn more about interactive tables.';\n",
              "          element.innerHTML = '';\n",
              "          dataTable['output_type'] = 'display_data';\n",
              "          await google.colab.output.renderOutput(dataTable, element);\n",
              "          const docLink = document.createElement('div');\n",
              "          docLink.innerHTML = docLinkHtml;\n",
              "          element.appendChild(docLink);\n",
              "        }\n",
              "      </script>\n",
              "    </div>\n",
              "  </div>\n",
              "  "
            ],
            "text/plain": [
              "  class                                              email\n",
              "0   ham  [go, jurong, point, crazy, available, bugis, n...\n",
              "1   ham                        [ok, lar, joking, wif, oni]\n",
              "2  spam  [free, entry, wkly, comp, win, fa, cup, final,...\n",
              "3   ham            [dun, say, early, hor, c, already, say]\n",
              "4   ham        [nah, think, go, usf, life, around, though]"
            ]
          },
          "metadata": {},
          "execution_count": 14
        }
      ],
      "source": [
        "df.drop_duplicates(inplace=True)\n",
        "df['email']=df['email'].str.lower()\n",
        "df['email']=df['email'].apply(lambda x:contractions.fix(x))\n",
        "#df['email']=df['email'].apply(lambda x : re.sub)\n",
        "#df['email']=df['email'].apply(lambda x:re.sub('b[w\\-.]+?@w+?.w{2,4}b', 'emailaddress',x))\n",
        "#df['email']=df['email'].apply(lambda x:re.sub('(http[s]?S+)|(w+.[A-Za-z]{2,4}S*)','', x))\n",
        "#df['email'][12]\n",
        "\n",
        "df['email']=df['email'].apply(lambda x:re.sub('\\S+@\\S+','emailaddress',x))\n",
        "#df['email'][136]\n",
        "\n",
        "\n",
        "df['email']=df['email'].apply(lambda x:re.sub('https?:\\/\\/(?:www\\.|(?!www))[a-zA-Z0-9][a-zA-Z0-9-]+[a-zA-Z0-9]\\.[^\\s]{2,}|www\\.[a-zA-Z0-9][a-zA-Z0-9-]+[a-zA-Z0-9]\\.[^\\s]{2,}|https?:\\/\\/(?:www\\.|(?!www))[a-zA-Z0-9]+\\.[^\\s]{2,}|www\\.[a-zA-Z0-9]+\\.[^\\s]{2,}','url',x))\n",
        "#df['email'][12]\n",
        "df['email']=df['email'].apply(lambda x:re.sub('[%s]' % re.escape(string.punctuation), '' , x))\n",
        "#df['email'][12]\n",
        "df['email']=df['email'].apply(lambda x: re.sub('\\W*\\d\\w*','',x))\n",
        "#df['email'][12]\n",
        "#spell=SpellChecker()\n",
        "#df['email']=df['email'].apply(lambda x:\" \".join([spell.correction(word) for word in x.split()]))\n",
        "\n",
        "\n",
        "stop_words=set(stopwords.words('english'))\n",
        "df['email']=df['email'].apply(lambda x:\" \".join([word for word in x.split() if word not in stop_words]))\n",
        "#df['email'][12]\n",
        "\n",
        "lemmatizer = WordNetLemmatizer()\n",
        "df['email']=df['email'].apply(lambda x:\" \".join([lemmatizer.lemmatize(word) for word in x.split()]))\n",
        "#df['email'][39]\n",
        "df['email']=df['email'].apply(lambda x: re.sub(' +', ' ', x))\n",
        "df['email']=df['email'].apply(lambda x:word_tokenize(x))\n",
        "\n",
        "df['email'][2]\n",
        "df.head()\n",
        "#def spell_checker(text):\n",
        "\n"
      ]
    },
    {
      "cell_type": "markdown",
      "source": [
        "#TF-IDF#"
      ],
      "metadata": {
        "id": "IDiMXUHRP8M_"
      },
      "id": "IDiMXUHRP8M_"
    },
    {
      "cell_type": "code",
      "source": [
        "df=df.reset_index(drop=True)\n",
        "rowcount=df.shape[0]\n",
        "DOC_FREQ={}\n",
        "for i in range(rowcount):\n",
        "  tokens=df['email'][i]\n",
        "  for w in tokens:\n",
        "    try:\n",
        "      DOC_FREQ[w].add(i)\n",
        "    except:\n",
        "      DOC_FREQ[w]={i}\n",
        "\n",
        "for i in DOC_FREQ:\n",
        "  DOC_FREQ[i]=len(DOC_FREQ[i])\n",
        "\n",
        "\n",
        "\n",
        "corpus_vocab=[x for x in DOC_FREQ]\n",
        "\n",
        "vocab_size=len(corpus_vocab)\n",
        "\n",
        "TF_IDF={}\n",
        "for i in range(rowcount):\n",
        "  num_words=len(df['email'][i])\n",
        "  tokens=df['email'][i]\n",
        "  counter=Counter(tokens)\n",
        "  for token in np.unique(tokens):\n",
        "    tf=counter[token]/num_words\n",
        "    doc_frequency=DOC_FREQ[token]\n",
        "    idf=np.log(rowcount/(doc_frequency+1))\n",
        "    TF_IDF[i,token]=tf*idf\n",
        "\n",
        "\n",
        "\n",
        "\n",
        "DOC_VEC=np.zeros((rowcount,vocab_size))\n",
        "for i in TF_IDF:\n",
        "  ind=corpus_vocab.index(i[1])\n",
        "  DOC_VEC[i[0]][ind]=TF_IDF[i]\n",
        "\n",
        "\n",
        "df_vector=df\n",
        "\n",
        "\n",
        "\n",
        "  \n",
        "\n",
        "\n"
      ],
      "metadata": {
        "id": "Ltmuo0meP37i"
      },
      "id": "Ltmuo0meP37i",
      "execution_count": 15,
      "outputs": []
    },
    {
      "cell_type": "markdown",
      "id": "f76767a7",
      "metadata": {
        "id": "f76767a7"
      },
      "source": [
        "### Split data"
      ]
    },
    {
      "cell_type": "code",
      "source": [
        "num_rows=int(len(DOC_VEC)*0.8)\n",
        "train=DOC_VEC[:num_rows]\n",
        "test=DOC_VEC[num_rows:]\n",
        "print(len(train))\n",
        "print(len(test))"
      ],
      "metadata": {
        "colab": {
          "base_uri": "https://localhost:8080/"
        },
        "id": "MeidciUqPyPh",
        "outputId": "5b9bd9fa-a3b0-4fb8-84b8-e0cd2fd82461"
      },
      "id": "MeidciUqPyPh",
      "execution_count": 16,
      "outputs": [
        {
          "output_type": "stream",
          "name": "stdout",
          "text": [
            "4135\n",
            "1034\n"
          ]
        }
      ]
    },
    {
      "cell_type": "code",
      "execution_count": 16,
      "id": "f75e6cd2",
      "metadata": {
        "id": "f75e6cd2"
      },
      "outputs": [],
      "source": [
        ""
      ]
    },
    {
      "cell_type": "markdown",
      "id": "d4dde8d3",
      "metadata": {
        "id": "d4dde8d3"
      },
      "source": [
        "### Train your KNN model (reuse previously iplemented model built from scratch) and test on your data\n",
        "1. Experiment with different distance measures [Euclidean distance, Manhattan distance, Hamming Distance] to handle categorical attributes and compare with the Cosine Similarity distance results. \n",
        "2. Explain which distance measure works best and why?\n",
        "3. Report Mean Squared Error(MSE), Mean-Absolute-Error(MAE), R-squared (R2) score in a tabular form\n",
        "4. Choose different K values (k=2,3,5,7,11,16) and experiment. Plot a graph showing R2 score vs k."
      ]
    },
    {
      "cell_type": "code",
      "execution_count": 17,
      "id": "45e0fd2f",
      "metadata": {
        "colab": {
          "base_uri": "https://localhost:8080/",
          "height": 125
        },
        "id": "45e0fd2f",
        "outputId": "57d841ac-fb9f-469e-f571-381dce3e2172"
      },
      "outputs": [
        {
          "output_type": "stream",
          "name": "stderr",
          "text": [
            "/usr/local/lib/python3.7/dist-packages/ipykernel_launcher.py:2: RuntimeWarning: invalid value encountered in double_scalars\n",
            "  \n"
          ]
        },
        {
          "output_type": "execute_result",
          "data": {
            "application/vnd.google.colaboratory.intrinsic+json": {
              "type": "string"
            },
            "text/plain": [
              "'\\nprint(len(test_labels))\\ncorrect_pred=0\\nfor i in range(len(train),len(train)+len(test)):\\n  if df[\\'class\\'][i]==\\'spam\\' and test_labels[i-len(train)]==1:\\n    correct_pred+=1\\n  if df[\\'class\\'][i]==\\'ham\\' and test_labels[i-len(train)]==0:\\n    correct_pred+=1\\naccuracy=(correct_pred/len(test))\\nprint(\"Accuracy = \",accuracy)\\n'"
            ]
          },
          "metadata": {},
          "execution_count": 17
        }
      ],
      "source": [
        "def cosine_similarity(list1,list2):\n",
        "  return np.dot(list1,list2)/(norm(list1)*norm(list2))\n",
        "'''\n",
        "def euclidean_distance(list1,list2):\n",
        "  a=np.array(list1)\n",
        "  b=np.array(list2)\n",
        "  return np.linalg.norm(a-b)\n",
        "\n",
        "def manhattan_distance(list1,list2):\n",
        "  a=np.array(list1)\n",
        "  b=np.array(list2)\n",
        "  return np.abs(a - b).sum()\n",
        "'''  \n",
        "'''\n",
        "def hamming_distance(list1,list2):\n",
        "  \n",
        "  dist=0\n",
        "  for i in range(len(list1)):\n",
        "    if list1[i]!=list2[i]:\n",
        "      dist+=1\n",
        "  return dist\n",
        "  \n",
        "  a=np.array(list1)\n",
        "  b=np.array(list2)\n",
        "  return np.count_nonzero(a!=b)\n",
        "  '''\n",
        "\n",
        "\n",
        "test_labels=[]\n",
        "def KNN(k,train,test):\n",
        "  for i in range(len(test)):\n",
        "    top5=[]\n",
        "    for j in range(len(train)):\n",
        "      dist=cosine_similarity(train[j],test[i])\n",
        "      top5.append((j,dist))\n",
        "      if len(top5)>k:\n",
        "        top5.sort(key=lambda u:u[1],reverse=True)\n",
        "        del top5[-1]\n",
        "    \n",
        "    spam_count=0\n",
        "    ham_count=0\n",
        "    for tuples in top5:\n",
        "      index=tuples[0]\n",
        "      if df['class'][index]=='spam':\n",
        "        spam_count=spam_count+1\n",
        "      else:\n",
        "        ham_count=ham_count+1\n",
        "\n",
        "    if ham_count>spam_count:\n",
        "      #test_labels.append((len(train)+i,0))\n",
        "      test_labels.append(0)\n",
        "    else:\n",
        "      #test_labels.append((len(train)+i,1))\n",
        "      test_labels.append(1)\n",
        "\n",
        "def knn_others(k,train,test):\n",
        "    for i in range(len(test)):\n",
        "      top5=[]\n",
        "      for j in range(len(train)):\n",
        "        dist=hamming_distance(train[j],test[i])\n",
        "        top5.append((j,dist))\n",
        "        if len(top5)>k:\n",
        "          top5.sort(key=lambda u:u[1])\n",
        "          del top5[-1]\n",
        "    \n",
        "      spam_count=0\n",
        "      ham_count=0\n",
        "      for tuples in top5:\n",
        "        index=tuples[0]\n",
        "        if df['class'][index]=='spam':\n",
        "          spam_count=spam_count+1\n",
        "        else:\n",
        "          ham_count=ham_count+1\n",
        "\n",
        "      if spam_count>ham_count:\n",
        "        #test_labels.append((len(train)+i,1))\n",
        "        test_labels.append(1)\n",
        "      else:\n",
        "        #test_labels.append((len(train)+i,0))\n",
        "        test_labels.append(0)\n",
        "\n",
        "\n",
        "k=5\n",
        "KNN(k,train,test)\n",
        "#knn_others(k,train,test)\n",
        "'''\n",
        "print(len(test_labels))\n",
        "correct_pred=0\n",
        "for i in range(len(train),len(train)+len(test)):\n",
        "  if df['class'][i]=='spam' and test_labels[i-len(train)]==1:\n",
        "    correct_pred+=1\n",
        "  if df['class'][i]=='ham' and test_labels[i-len(train)]==0:\n",
        "    correct_pred+=1\n",
        "accuracy=(correct_pred/len(test))\n",
        "print(\"Accuracy = \",accuracy)\n",
        "'''\n",
        "\n",
        "\n",
        "\n",
        "\n",
        "\n",
        "\n",
        "\n",
        "\n",
        "\n",
        "\n",
        "\n",
        "\n",
        "\n",
        "\n",
        "\n"
      ]
    },
    {
      "cell_type": "code",
      "source": [
        "df_new=df['class'][len(train):]\n",
        "df_new.shape\n",
        "df_new.head()\n",
        "print(\"Using Cosine similarity and k=5\")\n",
        "print()\n",
        "for i in range(len(train),len(test)+len(train)):\n",
        "  if df_new[i]=='spam':\n",
        "    df_new[i]=1\n",
        "  if df_new[i]=='ham':\n",
        "    df_new[i]=0\n",
        "\n",
        "actual_values=df_new.tolist()\n",
        "print(\"Confusion Matrix\")\n",
        "print(confusion_matrix(actual_values,test_labels))\n",
        "print()\n",
        "print(\"Classification report\")\n",
        "print(classification_report(actual_values, test_labels))\n",
        "print()\n",
        "print(\"0->ham\")\n",
        "print(\"1->spam\")\n",
        "print()\n",
        "'''\n",
        "tn, fp, fn, tp = confusion_matrix(actual_values, test_labels).ravel()\n",
        "precision=tp/(tp+fp)\n",
        "recall=tp/(tp+fn)\n",
        "print(precision)\n",
        "print(recall)\n",
        "f1_score=2*precision*recall/(precision+recall)\n",
        "print(f1_score)\n",
        "'''\n",
        "\n",
        "\n",
        "\n",
        "\n",
        "\n",
        "\n",
        "\n",
        "\n",
        "\n",
        "\n"
      ],
      "metadata": {
        "colab": {
          "base_uri": "https://localhost:8080/",
          "height": 400
        },
        "id": "-I3qLWx6-dnI",
        "outputId": "e25fe996-21a8-4d05-b430-4e589939669c"
      },
      "id": "-I3qLWx6-dnI",
      "execution_count": 18,
      "outputs": [
        {
          "output_type": "stream",
          "name": "stdout",
          "text": [
            "Using Cosine similarity and k=5\n",
            "\n",
            "Confusion Matrix\n",
            "[[910   7]\n",
            " [ 26  91]]\n",
            "\n",
            "Classification report\n",
            "              precision    recall  f1-score   support\n",
            "\n",
            "           0       0.97      0.99      0.98       917\n",
            "           1       0.93      0.78      0.85       117\n",
            "\n",
            "    accuracy                           0.97      1034\n",
            "   macro avg       0.95      0.89      0.91      1034\n",
            "weighted avg       0.97      0.97      0.97      1034\n",
            "\n",
            "\n",
            "0->ham\n",
            "1->spam\n",
            "\n"
          ]
        },
        {
          "output_type": "execute_result",
          "data": {
            "application/vnd.google.colaboratory.intrinsic+json": {
              "type": "string"
            },
            "text/plain": [
              "'\\ntn, fp, fn, tp = confusion_matrix(actual_values, test_labels).ravel()\\nprecision=tp/(tp+fp)\\nrecall=tp/(tp+fn)\\nprint(precision)\\nprint(recall)\\nf1_score=2*precision*recall/(precision+recall)\\nprint(f1_score)\\n'"
            ]
          },
          "metadata": {},
          "execution_count": 18
        }
      ]
    },
    {
      "cell_type": "markdown",
      "source": [
        "#KNN using Euclidean#"
      ],
      "metadata": {
        "id": "kJOZRRspnDna"
      },
      "id": "kJOZRRspnDna"
    },
    {
      "cell_type": "code",
      "source": [
        "print(\"Using Euclidean distance and k=5\")\n",
        "print()\n",
        "test_labels=[]\n",
        "\n",
        "def euclidean_distance(list1,list2):\n",
        "  a=np.array(list1)\n",
        "  b=np.array(list2)\n",
        "  return np.linalg.norm(a-b)\n",
        "\n",
        "def knn_euclidean(k,train,test):\n",
        "    for i in range(len(test)):\n",
        "      top5=[]\n",
        "      for j in range(len(train)):\n",
        "        dist=euclidean_distance(train[j],test[i])\n",
        "        top5.append((j,dist))\n",
        "        if len(top5)>k:\n",
        "          top5.sort(key=lambda u:u[1])\n",
        "          del top5[-1]\n",
        "    \n",
        "      spam_count=0\n",
        "      ham_count=0\n",
        "      for tuples in top5:\n",
        "        index=tuples[0]\n",
        "        if df['class'][index]=='spam':\n",
        "          spam_count=spam_count+1\n",
        "        else:\n",
        "          ham_count=ham_count+1\n",
        "\n",
        "      if spam_count>ham_count:\n",
        "        #test_labels.append((len(train)+i,1))\n",
        "        test_labels.append(1)\n",
        "      else:\n",
        "        #test_labels.append((len(train)+i,0))\n",
        "        test_labels.append(0)\n",
        "\n",
        "k=5\n",
        "knn_euclidean(k,train,test)\n",
        "\n",
        "df_new=df['class'][len(train):]\n",
        "df_new.shape\n",
        "df_new.head()\n",
        "\n",
        "for i in range(len(train),len(test)+len(train)):\n",
        "  if df_new[i]=='spam':\n",
        "    df_new[i]=1\n",
        "  if df_new[i]=='ham':\n",
        "    df_new[i]=0\n",
        "\n",
        "actual_values=df_new.tolist()\n",
        "print(\"Confusion Matrix\")\n",
        "print(confusion_matrix(actual_values,test_labels))\n",
        "print()\n",
        "print(\"Classification report\")\n",
        "print(classification_report(actual_values, test_labels))\n",
        "print()\n",
        "print(\"0->ham\")\n",
        "print(\"1->spam\")\n",
        "print()\n",
        "\n",
        "\n",
        "\n",
        "\n",
        "\n",
        "\n"
      ],
      "metadata": {
        "colab": {
          "base_uri": "https://localhost:8080/"
        },
        "id": "HLwiLB72nLr7",
        "outputId": "513da471-fb59-4773-eb08-c1397d3b4a2a"
      },
      "id": "HLwiLB72nLr7",
      "execution_count": 19,
      "outputs": [
        {
          "output_type": "stream",
          "name": "stdout",
          "text": [
            "Using Euclidean distance and k=5\n",
            "\n",
            "Confusion Matrix\n",
            "[[910   7]\n",
            " [ 79  38]]\n",
            "\n",
            "Classification report\n",
            "              precision    recall  f1-score   support\n",
            "\n",
            "           0       0.92      0.99      0.95       917\n",
            "           1       0.84      0.32      0.47       117\n",
            "\n",
            "    accuracy                           0.92      1034\n",
            "   macro avg       0.88      0.66      0.71      1034\n",
            "weighted avg       0.91      0.92      0.90      1034\n",
            "\n",
            "\n",
            "0->ham\n",
            "1->spam\n",
            "\n"
          ]
        }
      ]
    },
    {
      "cell_type": "markdown",
      "source": [
        "#KNN using Manhattan#"
      ],
      "metadata": {
        "id": "o_R_eLphnMhP"
      },
      "id": "o_R_eLphnMhP"
    },
    {
      "cell_type": "code",
      "source": [
        "def manhattan_distance(list1,list2):\n",
        "  a=np.array(list1)\n",
        "  b=np.array(list2)\n",
        "  return np.abs(a - b).sum()\n",
        "\n",
        "print(\"Using Manhattan distance and k=5\")\n",
        "print()\n",
        "test_labels=[]\n",
        "def knn_manhattan(k,train,test):\n",
        "    for i in range(len(test)):\n",
        "      top5=[]\n",
        "      for j in range(len(train)):\n",
        "        dist=manhattan_distance(train[j],test[i])\n",
        "        top5.append((j,dist))\n",
        "        if len(top5)>k:\n",
        "          top5.sort(key=lambda u:u[1])\n",
        "          del top5[-1]\n",
        "    \n",
        "      spam_count=0\n",
        "      ham_count=0\n",
        "      for tuples in top5:\n",
        "        index=tuples[0]\n",
        "        if df['class'][index]=='spam':\n",
        "          spam_count=spam_count+1\n",
        "        else:\n",
        "          ham_count=ham_count+1\n",
        "\n",
        "      if spam_count>ham_count:\n",
        "        #test_labels.append((len(train)+i,1))\n",
        "        test_labels.append(1)\n",
        "      else:\n",
        "        #test_labels.append((len(train)+i,0))\n",
        "        test_labels.append(0)\n",
        "\n",
        "k=5\n",
        "knn_manhattan(k,train,test)\n",
        "\n",
        "df_new=df['class'][len(train):]\n",
        "df_new.shape\n",
        "df_new.head()\n",
        "\n",
        "for i in range(len(train),len(test)+len(train)):\n",
        "  if df_new[i]=='spam':\n",
        "    df_new[i]=1\n",
        "  if df_new[i]=='ham':\n",
        "    df_new[i]=0\n",
        "\n",
        "actual_values=df_new.tolist()\n",
        "print(\"Confusion Matrix\")\n",
        "print(confusion_matrix(actual_values,test_labels))\n",
        "print()\n",
        "print(\"Classification report\")\n",
        "print(classification_report(actual_values, test_labels))\n",
        "print()\n",
        "print(\"0->ham\")\n",
        "print(\"1->spam\")\n",
        "print()\n",
        "\n",
        "\n",
        "\n"
      ],
      "metadata": {
        "colab": {
          "base_uri": "https://localhost:8080/"
        },
        "id": "s0LzJDJCnTjw",
        "outputId": "a377c09f-6a59-41ea-d09c-2e13eeae6fd0"
      },
      "id": "s0LzJDJCnTjw",
      "execution_count": 20,
      "outputs": [
        {
          "output_type": "stream",
          "name": "stdout",
          "text": [
            "Using Manhattan distance and k=5\n",
            "\n",
            "Confusion Matrix\n",
            "[[917   0]\n",
            " [ 82  35]]\n",
            "\n",
            "Classification report\n",
            "              precision    recall  f1-score   support\n",
            "\n",
            "           0       0.92      1.00      0.96       917\n",
            "           1       1.00      0.30      0.46       117\n",
            "\n",
            "    accuracy                           0.92      1034\n",
            "   macro avg       0.96      0.65      0.71      1034\n",
            "weighted avg       0.93      0.92      0.90      1034\n",
            "\n",
            "\n",
            "0->ham\n",
            "1->spam\n",
            "\n"
          ]
        }
      ]
    },
    {
      "cell_type": "markdown",
      "source": [
        "#Comparison of distance metrics#"
      ],
      "metadata": {
        "id": "T-qgspZFr-pg"
      },
      "id": "T-qgspZFr-pg"
    },
    {
      "cell_type": "markdown",
      "source": [
        "*As we can see from the results of KNN with three distance metrics(cosine,euclidean and manhattan), recall and f1-score values seem to be very poor for euclidean and manhattan distances and cosine similarity seems to work very well on all parameters.* \n",
        "<br>\n",
        "\n",
        "*Cosine similarity works better because it measures the similarity in cosine space(angle between vectors).Few times the test email vector query length can be small but it might be closely related to an email. Cosine similarity helps in those cases.*\n",
        "\n",
        "<br>\n",
        "\n",
        "![image.png](data:image/png;base64,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)\n",
        "\n",
        "<br>\n",
        "*In the above diagram, the blue vectors are emails and the red vector is the test email, as we can clearly see, though the manhattan distance (green line) is very high for email d1, the test email vector is still close to email d1. In such cases, cosine similarity would be better as it considers the angle between those two vectors.*\n",
        "\n",
        "\n"
      ],
      "metadata": {
        "id": "-tp7DMtdsDgY"
      },
      "id": "-tp7DMtdsDgY"
    },
    {
      "cell_type": "markdown",
      "source": [
        "#f1-score vs k graph#"
      ],
      "metadata": {
        "id": "uoAnyyr3m72K"
      },
      "id": "uoAnyyr3m72K"
    },
    {
      "cell_type": "code",
      "source": [
        "xvalues=[2,3,5,7,11,16]\n",
        "yvalues=[0.886075949367088,0.855813953488372,0.846511627906976,0.841121495327102,0.822966507177033,0.816901408450704]\n",
        "plt.plot(xvalues,yvalues)\n",
        "plt.xlabel(\"k\")\n",
        "plt.ylabel(\"F1-score\")\n",
        "plt.title(\"F1-score vs k\")\n",
        "plt.show()"
      ],
      "metadata": {
        "colab": {
          "base_uri": "https://localhost:8080/",
          "height": 295
        },
        "id": "_vp_pWZim38y",
        "outputId": "d67d1458-e0ba-4d96-d87d-6a18489d3a50"
      },
      "id": "_vp_pWZim38y",
      "execution_count": 21,
      "outputs": [
        {
          "output_type": "display_data",
          "data": {
            "image/png": "[encoded data removed]",
            "text/plain": [
              "<Figure size 432x288 with 1 Axes>"
            ]
          },
          "metadata": {
            "needs_background": "light"
          }
        }
      ]
    },
    {
      "cell_type": "markdown",
      "id": "15000352",
      "metadata": {
        "id": "15000352"
      },
      "source": [
        "### Train and test Sklearn's KNN classifier model on your data (use metric which gave best results on your experimentation with built-from-scratch model.)"
      ]
    },
    {
      "cell_type": "code",
      "execution_count": 22,
      "id": "48aab7d3",
      "metadata": {
        "colab": {
          "base_uri": "https://localhost:8080/",
          "height": 400
        },
        "id": "48aab7d3",
        "outputId": "d926a3c7-84db-4cff-a0e2-199be243a6eb"
      },
      "outputs": [
        {
          "output_type": "stream",
          "name": "stdout",
          "text": [
            "Using sklearn kneighbors classifier\n",
            "\n",
            "Confusion Matrix\n",
            "[[910   7]\n",
            " [ 26  91]]\n",
            "\n",
            "Classification report\n",
            "              precision    recall  f1-score   support\n",
            "\n",
            "           0       0.97      0.99      0.98       917\n",
            "           1       0.93      0.78      0.85       117\n",
            "\n",
            "    accuracy                           0.97      1034\n",
            "   macro avg       0.95      0.89      0.91      1034\n",
            "weighted avg       0.97      0.97      0.97      1034\n",
            "\n",
            "\n",
            "0->ham\n",
            "1->spam\n"
          ]
        },
        {
          "output_type": "execute_result",
          "data": {
            "application/vnd.google.colaboratory.intrinsic+json": {
              "type": "string"
            },
            "text/plain": [
              "'\\nsktn, skfp, skfn, sktp = confusion_matrix(actual_values, y_pred).ravel()\\nskprecision=sktp/(sktp+skfp)\\nskrecall=sktp/(sktp+skfn)\\nprint(skprecision)\\nprint(skrecall)\\nskf1_score=2*skprecision*skrecall/(skprecision+skrecall)\\nprint(skf1_score)\\n'"
            ]
          },
          "metadata": {},
          "execution_count": 22
        }
      ],
      "source": [
        "df_train=df['class'][:len(train)]\n",
        "\n",
        "\n",
        "for i in range(0,len(train)):\n",
        "  if df_train[i]=='spam':\n",
        "    df_train[i]=1\n",
        "  if df_train[i]=='ham':\n",
        "    df_train[i]=0\n",
        "train_labels=df_train.tolist()\n",
        "\n",
        "classifier=KNeighborsClassifier(n_neighbors=5,metric='cosine')\n",
        "classifier.fit(train,train_labels)\n",
        "y_pred=classifier.predict(test)\n",
        "print(\"Using sklearn kneighbors classifier\")\n",
        "print()\n",
        "print(\"Confusion Matrix\")\n",
        "print(confusion_matrix(actual_values, y_pred))\n",
        "print()\n",
        "print(\"Classification report\")\n",
        "print(classification_report(actual_values, y_pred))\n",
        "print()\n",
        "print(\"0->ham\")\n",
        "print(\"1->spam\")\n",
        "'''\n",
        "sktn, skfp, skfn, sktp = confusion_matrix(actual_values, y_pred).ravel()\n",
        "skprecision=sktp/(sktp+skfp)\n",
        "skrecall=sktp/(sktp+skfn)\n",
        "print(skprecision)\n",
        "print(skrecall)\n",
        "skf1_score=2*skprecision*skrecall/(skprecision+skrecall)\n",
        "print(skf1_score)\n",
        "'''\n"
      ]
    },
    {
      "cell_type": "markdown",
      "id": "7d22aa47",
      "metadata": {
        "id": "7d22aa47"
      },
      "source": [
        "### Compare both the models result."
      ]
    },
    {
      "cell_type": "markdown",
      "source": [
        "*As we can see, with cosine similarity metric, our knn implementation and sklearn's kneighbors give similar results - accuracy,precision,recall and f1-score which is expected.*"
      ],
      "metadata": {
        "id": "W9OhjPnglWha"
      },
      "id": "W9OhjPnglWha"
    },
    {
      "cell_type": "markdown",
      "id": "fad1f345",
      "metadata": {
        "id": "fad1f345"
      },
      "source": [
        "**BONUS** : What is the time complexity of training using KNN classifier? What is the time complexity while testing? Is KNN a linear classifier or can it learn any boundary?\n",
        "\n",
        "**Answer ->** Time complexity of training using KNN classifier is O(1) <br>\n",
        "              Time complexity while testing is O(n*d) where n = no of samples and d = no of dimensions in data. <br>\n",
        "            KNN is not a linear classifier and it can learn any boundary depending upon the k nearest neighbors."
      ]
    },
    {
      "cell_type": "raw",
      "id": "0daaa324",
      "metadata": {
        "id": "0daaa324"
      },
      "source": [
        "--Answer--"
      ]
    }
  ],
  "metadata": {
    "kernelspec": {
      "display_name": "Python 3",
      "language": "python",
      "name": "python3"
    },
    "language_info": {
      "codemirror_mode": {
        "name": "ipython",
        "version": 3
      },
      "file_extension": ".py",
      "mimetype": "text/x-python",
      "name": "python",
      "nbconvert_exporter": "python",
      "pygments_lexer": "ipython3",
      "version": "3.8.10"
    },
    "colab": {
      "name": "2021202024_Assignment1_Question3.ipynb",
      "provenance": [],
      "collapsed_sections": []
    }
  },
  "nbformat": 4,
  "nbformat_minor": 5
}